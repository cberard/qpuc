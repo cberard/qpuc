{
 "cells": [
  {
   "cell_type": "code",
   "execution_count": 1,
   "metadata": {},
   "outputs": [],
   "source": [
    "from prerequis import read_json, write_json\n",
    "import numpy as np"
   ]
  },
  {
   "cell_type": "code",
   "execution_count": null,
   "metadata": {},
   "outputs": [],
   "source": [
    "import unicodedata\n",
    "def delete_accent(text): \n",
    "    return unicodedata.normalize('NFKD', text).encode('ASCII', 'ignore')\n",
    "\n",
    "def delete_majuscules(text): \n",
    "    return text.lower()\n",
    "\n",
    "def delete_spaces(text): \n",
    "    return text.replace(' ', '')"
   ]
  },
  {
   "cell_type": "code",
   "execution_count": 2,
   "metadata": {},
   "outputs": [],
   "source": [
    "from datetime import datetime"
   ]
  },
  {
   "cell_type": "code",
   "execution_count": 19,
   "metadata": {},
   "outputs": [],
   "source": [
    "today = datetime.today().date()"
   ]
  },
  {
   "cell_type": "code",
   "execution_count": 20,
   "metadata": {},
   "outputs": [],
   "source": [
    "now = datetime.now()"
   ]
  },
  {
   "cell_type": "code",
   "execution_count": 21,
   "metadata": {},
   "outputs": [
    {
     "output_type": "execute_result",
     "data": {
      "text/plain": "False"
     },
     "metadata": {},
     "execution_count": 21
    }
   ],
   "source": [
    "now.date() == today"
   ]
  },
  {
   "cell_type": "code",
   "execution_count": 16,
   "metadata": {},
   "outputs": [],
   "source": [
    "test = datetime(1994, 12, 4, 13, 52)"
   ]
  },
  {
   "cell_type": "code",
   "execution_count": 17,
   "metadata": {},
   "outputs": [
    {
     "output_type": "execute_result",
     "data": {
      "text/plain": "datetime.datetime(1994, 12, 4, 13, 52)"
     },
     "metadata": {},
     "execution_count": 17
    }
   ],
   "source": [
    "test"
   ]
  },
  {
   "cell_type": "code",
   "execution_count": 18,
   "metadata": {},
   "outputs": [
    {
     "output_type": "execute_result",
     "data": {
      "text/plain": "False"
     },
     "metadata": {},
     "execution_count": 18
    }
   ],
   "source": [
    "test.date() == today"
   ]
  },
  {
   "cell_type": "code",
   "execution_count": 19,
   "metadata": {},
   "outputs": [
    {
     "output_type": "error",
     "ename": "FileNotFoundError",
     "evalue": "[Errno 2] No such file or directory: './questions.json'",
     "traceback": [
      "\u001b[0;31m---------------------------------------------------------------------------\u001b[0m",
      "\u001b[0;31mFileNotFoundError\u001b[0m                         Traceback (most recent call last)",
      "\u001b[0;32m<ipython-input-19-076e122d01ed>\u001b[0m in \u001b[0;36m<module>\u001b[0;34m\u001b[0m\n\u001b[0;32m----> 1\u001b[0;31m \u001b[0mquestions_list\u001b[0m \u001b[0;34m=\u001b[0m \u001b[0mread_json\u001b[0m\u001b[0;34m(\u001b[0m\u001b[0;34m'./questions.json'\u001b[0m\u001b[0;34m)\u001b[0m\u001b[0;34m\u001b[0m\u001b[0;34m\u001b[0m\u001b[0m\n\u001b[0m",
      "\u001b[0;32m~/Desktop/code_clara/qpuc/prerequis.py\u001b[0m in \u001b[0;36mread_json\u001b[0;34m(link)\u001b[0m\n\u001b[1;32m      8\u001b[0m \u001b[0;34m\u001b[0m\u001b[0m\n\u001b[1;32m      9\u001b[0m \u001b[0;32mdef\u001b[0m \u001b[0mread_json\u001b[0m\u001b[0;34m(\u001b[0m\u001b[0mlink\u001b[0m\u001b[0;34m)\u001b[0m\u001b[0;34m:\u001b[0m\u001b[0;34m\u001b[0m\u001b[0;34m\u001b[0m\u001b[0m\n\u001b[0;32m---> 10\u001b[0;31m     \u001b[0;32mwith\u001b[0m \u001b[0mopen\u001b[0m\u001b[0;34m(\u001b[0m\u001b[0mlink\u001b[0m\u001b[0;34m)\u001b[0m \u001b[0;32mas\u001b[0m \u001b[0mjson_data\u001b[0m\u001b[0;34m:\u001b[0m\u001b[0;34m\u001b[0m\u001b[0;34m\u001b[0m\u001b[0m\n\u001b[0m\u001b[1;32m     11\u001b[0m         \u001b[0mdata_dict\u001b[0m \u001b[0;34m=\u001b[0m \u001b[0mjson\u001b[0m\u001b[0;34m.\u001b[0m\u001b[0mload\u001b[0m\u001b[0;34m(\u001b[0m\u001b[0mjson_data\u001b[0m\u001b[0;34m)\u001b[0m\u001b[0;34m\u001b[0m\u001b[0;34m\u001b[0m\u001b[0m\n\u001b[1;32m     12\u001b[0m     \u001b[0;32mreturn\u001b[0m \u001b[0mdata_dict\u001b[0m\u001b[0;34m\u001b[0m\u001b[0;34m\u001b[0m\u001b[0m\n",
      "\u001b[0;31mFileNotFoundError\u001b[0m: [Errno 2] No such file or directory: './questions.json'"
     ]
    }
   ],
   "source": [
    "questions_list = read_json('./questions.json')"
   ]
  },
  {
   "cell_type": "code",
   "execution_count": 16,
   "metadata": {},
   "outputs": [
    {
     "output_type": "execute_result",
     "data": {
      "text/plain": "[{'question_id': 1,\n  'question_content': [{'step': 1,\n    'indice': 'Je suis né le 13 février 1991 à Pau.'},\n   {'step': 2,\n    'indice': 'C’est en écoutant mon père chanter à la guitare des chansons de Georges Brassens, Francois Béranger et Maxime Le Forestier que je me découvre une passion pour la musique et commence dès lors à écrire des chansons. '},\n   {'step': 3,\n    'indice': 'J’ai depuis percé et j’ai même déjà gagné une victoire de la musique. '},\n   {'step': 4,\n    'indice': 'Il y a deux ans j’ai annoncé que je m’éloignais de la seine au grand dam de mes plus grands fans. Mais aujourd’hui j’annonce mon retour sur Instagram pour le 7 mai. '},\n   {'step': 5,\n    'indice': 'On aurait pu me demander : « mais t’es où ? Pas là! » '}],\n  'answer': 'Vianney'},\n {'question_id': 2,\n  'question_content': [{'step': 1,\n    'indice': 'Homme politique français né le 22 avril 1980 en Isère.'},\n   {'step': 2,\n    'indice': \"Je suis élu régional en Auvergne Rhône-Alpes puis député de l'Isère en 2017. Je mène alors à l'assemblé la mission de rapporteur de la commission des affaires sociales de 2017 à 2020. \"},\n   {'step': 3,\n    'indice': \"Fils d'une professeur d'anglais et d'un ingénieur en informatique, j'étudie avant de me lancer en politique la médecine et devient neurologue en 2008, Profession que j'exerce au chu de Grenoble.\"},\n   {'step': 4,\n    'indice': \"Le 16 février 2020 je suis nommé ministre... des solidarité et de la santé suite à la démission d'Agnès Buzyn.\"},\n   {'step': 5,\n    'indice': 'Je dois alors gérer la crise liée au Covid 19 dès ma prise de fonction.'}],\n  'answer': 'Olivier Veran'},\n {'question_id': 3,\n  'question_content': [{'step': 1,\n    'indice': \"Je suis né le 23 avril 2018, je fête donc mes 2 ans aujourd'hui.\"},\n   {'step': 2,\n    'indice': \"Je suis ne à Londres et suis donc anglais, je suis le cadet d'une fratrie de 2 garcons et une fille.\"},\n   {'step': 3,\n    'indice': 'Mon frere aine George et Charlotte partage avec moi mon titre de noblesse nous sommes tous les trois princes ou princesse de Cambridge.'},\n   {'step': 4,\n    'indice': \"Arriere petit fils de la reine Élisabeth II, fils du prince William duc de Cambridge et de Catherine Middleton je suis le 5eme dans l'ordre de succession au trone britannique.\"},\n   {'step': 5,\n    'indice': 'Mon prenom est le même que celui de beaucoup de roi français.'}],\n  'answer': 'string'},\n {'question_id': 4,\n  'question_content': [{'step': 1,\n    'indice': \"Je suis né le 23 avril 2018, je fête donc mes 2 ans aujourd'hui.\"},\n   {'step': 2,\n    'indice': \"Je suis ne à Londres et suis donc anglais, je suis le cadet d'une fratrie de 2 garcons et une fille.\"},\n   {'step': 3,\n    'indice': 'Mon frere aine George et Charlotte partage avec moi mon titre de noblesse nous sommes tous les trois princes ou princesse de Cambridge.'},\n   {'step': 4,\n    'indice': \"Arriere petit fils de la reine Élisabeth II, fils du prince William duc de Cambridge et de Catherine Middleton je suis le 5eme dans l'ordre de succession au trone britannique.\"},\n   {'step': 5,\n    'indice': 'Mon prenom est le meme que celui de beaucoup de roi français.'}],\n  'answer': 'string'},\n {'question_id': 5,\n  'question_content': [{'step': 1,\n    'indice': \"Je suis né le 23 avril 2018, je fête donc mes 2 ans aujourd'hui.\"},\n   {'step': 2,\n    'indice': \"Je suis ne à Londres et suis donc anglais, je suis le cadet d'une fratrie de 2 garcons et une fille.\"},\n   {'step': 3,\n    'indice': 'Mon frere aine George et Charlotte partage avec moi mon titre de noblesse nous sommes tous les trois princes ou princesse de Cambridge.'},\n   {'step': 4,\n    'indice': \"Arriere petit fils de la reine Elisabeth II, fils du prince William duc de Cambridge et de Catherine Middleton je suis le 5eme dans l'ordre de succession au trone britannique.\"},\n   {'step': 5,\n    'indice': 'Mon prenom est le meme que celui de beaucoup de roi français.'}],\n  'answer': 'string'},\n {'question_id': 6,\n  'question_content': [{'step': 1,\n    'indice': \"Je suis né le 23 avril 2018, je fête donc mes 2 ans aujourd'hui.\"},\n   {'step': 2,\n    'indice': \"Je suis ne à Londres et suis donc anglais, je suis le cadet d'une fratrie de 2 garcons et une fille.\"},\n   {'step': 3,\n    'indice': 'Mon frere aine George et Charlotte partage avec moi mon titre de noblesse nous sommes tous les trois princes ou princesse de Cambridge.'},\n   {'step': 4,\n    'indice': \"Arriere petit fils de la reine Elisabeth II, fils du prince William duc de Cambridge et de Catherine Middleton je suis le 5eme dans l'ordre de succession au trone britannique.\"},\n   {'step': 5,\n    'indice': 'Mon prenom est le meme que celui de beaucoup de roi français.'}],\n  'answer': 'string'},\n {'question_id': 7,\n  'question_content': [{'step': 1,\n    'indice': \"Je suis ne le 23 avril 2018, je fete donc mes 2 ans aujourd'hui.\"},\n   {'step': 2,\n    'indice': \"Je suis ne à Londres et suis donc anglais, je suis le cadet d'une fratrie de 2 garcons et une fille.\"},\n   {'step': 3,\n    'indice': 'Mon frere aine George et Charlotte partage avec moi mon titre de noblesse nous sommes tous les trois princes ou princesse de Cambridge.'},\n   {'step': 4,\n    'indice': \"Arriere petit fils de la reine Elisabeth II, fils du prince William duc de Cambridge et de Catherine Middleton je suis le 5eme dans l'ordre de succession au trone britannique.\"},\n   {'step': 5,\n    'indice': 'Mon prenom est le meme que celui de beaucoup de roi français.'}],\n  'answer': 'Prince Louis'}]"
     },
     "metadata": {},
     "execution_count": 16
    }
   ],
   "source": [
    "questions_list"
   ]
  },
  {
   "cell_type": "code",
   "execution_count": 17,
   "metadata": {},
   "outputs": [],
   "source": [
    "questions_list = questions_list[:2]"
   ]
  },
  {
   "cell_type": "code",
   "execution_count": 13,
   "metadata": {},
   "outputs": [
    {
     "output_type": "execute_result",
     "data": {
      "text/plain": "[{'question_id': 1,\n  'question_content': [{'step': 1,\n    'indice': 'Je suis né le 13 février 1991 à Pau.'},\n   {'step': 2,\n    'indice': 'C’est en écoutant mon père chanter à la guitare des chansons de Georges Brassens, Francois Béranger et Maxime Le Forestier que je me découvre une passion pour la musique et commence dès lors à écrire des chansons. '},\n   {'step': 3,\n    'indice': 'J’ai depuis percé et j’ai même déjà gagné une victoire de la musique. '},\n   {'step': 4,\n    'indice': 'Il y a deux ans j’ai annoncé que je m’éloignais de la seine au grand dam de mes plus grands fans. Mais aujourd’hui j’annonce mon retour sur Instagram pour le 7 mai. '},\n   {'step': 5,\n    'indice': 'On aurait pu me demander : « mais t’es où ? Pas là! » '}],\n  'answer': 'Vianney'},\n {'question_id': 2,\n  'question_content': [{'step': 1,\n    'indice': 'Homme politique français né le 22 avril 1980 en Isère.'},\n   {'step': 2,\n    'indice': \"Je suis élu régional en Auvergne Rhône-Alpes puis député de l'Isère en 2017. Je mène alors à l'assemblé la mission de rapporteur de la commission des affaires sociales de 2017 à 2020. \"},\n   {'step': 3,\n    'indice': \"Fils d'une professeur d'anglais et d'un ingénieur en informatique, j'étudie avant de me lancer en politique la médecine et devient neurologue en 2008, Profession que j'exerce au chu de Grenoble.\"},\n   {'step': 4,\n    'indice': \"Le 16 février 2020 je suis nommé ministre... des solidarité et de la santé suite à la démission d'Agnès Buzyn.\"},\n   {'step': 5,\n    'indice': 'Je dois alors gérer la crise liée au Covid 19 dès ma prise de fonction.'}],\n  'answer': 'Olivier Veran'}]"
     },
     "metadata": {},
     "execution_count": 13
    }
   ],
   "source": [
    "questions_list"
   ]
  },
  {
   "cell_type": "code",
   "execution_count": null,
   "metadata": {},
   "outputs": [],
   "source": []
  },
  {
   "cell_type": "code",
   "execution_count": null,
   "metadata": {},
   "outputs": [],
   "source": []
  },
  {
   "cell_type": "code",
   "execution_count": 88,
   "metadata": {},
   "outputs": [],
   "source": [
    "questions_list = [{'question_id': 1,\n",
    "   'question_content': [\n",
    "       {'step': 1, \"indice\": \"Je suis né le 13 février 1991 à Pau.\"}, \n",
    "       {'step': 2, \"indice\": \"C’est en écoutant mon père chanter à la guitare des chansons de Georges Brassens, Francois Béranger et Maxime Le Forestier que je me découvre une passion pour la musique et commence dès lors à écrire des chansons. \"}, \n",
    "       {'step': 3, \"indice\": \"J’ai depuis percé et j’ai même déjà gagné une victoire de la musique. \"}, \n",
    "       {'step': 4, \"indice\": \"Il y a deux ans j’ai annoncé que je m’éloignais de la seine au grand dam de mes plus grands fans. Mais aujourd’hui j’annonce mon retour sur Instagram pour le 7 mai. \"}, \n",
    "       {'step': 5, \"indice\": \"On aurait pu me demander : « mais t’es où ? Pas là! » \"}, \n",
    "        \n",
    "                   ],\n",
    "   'answer_correct': {'text':'Vianney'},\n",
    "  {'question_id': 2,\n",
    "   'question_content':  [\n",
    "       {'step': 1, \"indice\": \"Homme politique français né le 22 avril 1980 en Isère.\"}, \n",
    "       {'step': 2, \"indice\": \"Je suis élu régional en Auvergne Rhône-Alpes puis député de l'Isère en 2017. Je mène alors à l'assemblé la mission de rapporteur de la commission des affaires sociales de 2017 à 2020. \"}, \n",
    "       {'step': 3, \"indice\": \"Fils d'une professeur d'anglais et d'un ingénieur en informatique, j'étudie avant de me lancer en politique la médecine et devient neurologue en 2008, Profession que j'exerce au chu de Grenoble.\"}, \n",
    "       {'step': 4, \"indice\": \"Le 16 février 2020 je suis nommé ministre... des solidarité et de la santé suite à la démission d'Agnès Buzyn.\"}, \n",
    "       {'step': 5, \"indice\": \"Je dois alors gérer la crise liée au Covid 19 dès ma prise de fonction.\"}, \n",
    "        \n",
    "                   ],\n",
    "   'answer_correct': {'text':'Olivier Veran'}]"
   ]
  },
  {
   "cell_type": "code",
   "execution_count": 18,
   "metadata": {},
   "outputs": [],
   "source": [
    "write_json(questions_list, './questions.json')"
   ]
  },
  {
   "cell_type": "code",
   "execution_count": null,
   "metadata": {},
   "outputs": [],
   "source": []
  },
  {
   "cell_type": "code",
   "execution_count": 90,
   "metadata": {},
   "outputs": [],
   "source": [
    "from fastapi import Query"
   ]
  },
  {
   "cell_type": "code",
   "execution_count": 91,
   "metadata": {},
   "outputs": [
    {
     "data": {
      "text/plain": [
       "Query(min_length=1, max_length=10, extra={})"
      ]
     },
     "execution_count": 91,
     "metadata": {},
     "output_type": "execute_result"
    }
   ],
   "source": [
    "Query(None, min_length=1, max_length=10)"
   ]
  },
  {
   "cell_type": "code",
   "execution_count": null,
   "metadata": {},
   "outputs": [],
   "source": []
  },
  {
   "cell_type": "code",
   "execution_count": 57,
   "metadata": {},
   "outputs": [],
   "source": [
    "from typing import List\n",
    "from pydantic import BaseModel"
   ]
  },
  {
   "cell_type": "code",
   "execution_count": 61,
   "metadata": {},
   "outputs": [],
   "source": [
    "class QuestionStep(BaseModel): \n",
    "    step: int\n",
    "    indice: str\n",
    "\n",
    "class Question(BaseModel):\n",
    "    question_content: List[QuestionStep]#, maxlength=10)\n",
    "    answer: str"
   ]
  },
  {
   "cell_type": "code",
   "execution_count": 64,
   "metadata": {},
   "outputs": [],
   "source": [
    "q = Question(question_content=[{'step':1, 'indice':'yolo'}],answer='blabla')"
   ]
  },
  {
   "cell_type": "code",
   "execution_count": 72,
   "metadata": {},
   "outputs": [],
   "source": [
    "question = q.question_content"
   ]
  },
  {
   "cell_type": "code",
   "execution_count": 73,
   "metadata": {},
   "outputs": [
    {
     "data": {
      "text/plain": [
       "[QuestionStep(step=1, indice='yolo')]"
      ]
     },
     "execution_count": 73,
     "metadata": {},
     "output_type": "execute_result"
    }
   ],
   "source": [
    "question"
   ]
  },
  {
   "cell_type": "code",
   "execution_count": 74,
   "metadata": {},
   "outputs": [],
   "source": [
    "def add_question(question, answer, questions_list): \n",
    "    question_id = before_add_find_id(questions_list)\n",
    "    \n",
    "    #question, answer  = before_add_sanity_check(question, answer)\n",
    "    \n",
    "    question_ready = {\"question_id\": question_id, \"question_content\": [q.dict() for q in question], \"answer\":answer}\n",
    "    questions_list.append(question_ready)\n",
    "\n",
    "    return {\"questions\":questions_list,  \"result\" : \"QUESTION ADDED\"}"
   ]
  },
  {
   "cell_type": "code",
   "execution_count": 76,
   "metadata": {},
   "outputs": [],
   "source": [
    "q1 = question[0]"
   ]
  },
  {
   "cell_type": "code",
   "execution_count": 80,
   "metadata": {},
   "outputs": [
    {
     "data": {
      "text/plain": [
       "{'step': 1, 'indice': 'yolo'}"
      ]
     },
     "execution_count": 80,
     "metadata": {},
     "output_type": "execute_result"
    }
   ],
   "source": [
    "q1.dict()"
   ]
  },
  {
   "cell_type": "code",
   "execution_count": null,
   "metadata": {},
   "outputs": [],
   "source": []
  },
  {
   "cell_type": "code",
   "execution_count": null,
   "metadata": {},
   "outputs": [],
   "source": []
  },
  {
   "cell_type": "code",
   "execution_count": null,
   "metadata": {},
   "outputs": [],
   "source": []
  },
  {
   "cell_type": "code",
   "execution_count": 69,
   "metadata": {},
   "outputs": [],
   "source": [
    "class Question(BaseModel):\n",
    "    question_content: List[QuestionStep]=[QuestionStep(step=i+1, indice=\"\") for i in range(10)]\n",
    "    answer: str"
   ]
  },
  {
   "cell_type": "code",
   "execution_count": null,
   "metadata": {},
   "outputs": [],
   "source": []
  },
  {
   "cell_type": "code",
   "execution_count": null,
   "metadata": {},
   "outputs": [],
   "source": []
  },
  {
   "cell_type": "code",
   "execution_count": 56,
   "metadata": {},
   "outputs": [
    {
     "data": {
      "text/plain": [
       "typing.List"
      ]
     },
     "execution_count": 56,
     "metadata": {},
     "output_type": "execute_result"
    }
   ],
   "source": [
    "List"
   ]
  },
  {
   "cell_type": "code",
   "execution_count": null,
   "metadata": {},
   "outputs": [],
   "source": []
  },
  {
   "cell_type": "code",
   "execution_count": null,
   "metadata": {},
   "outputs": [],
   "source": []
  },
  {
   "cell_type": "code",
   "execution_count": null,
   "metadata": {},
   "outputs": [],
   "source": []
  },
  {
   "cell_type": "code",
   "execution_count": 49,
   "metadata": {},
   "outputs": [
    {
     "data": {
      "text/plain": [
       "2"
      ]
     },
     "execution_count": 49,
     "metadata": {},
     "output_type": "execute_result"
    }
   ],
   "source": [
    "max([question['question_id'] for question in questions_list])"
   ]
  },
  {
   "cell_type": "code",
   "execution_count": 28,
   "metadata": {},
   "outputs": [],
   "source": [
    "elmt = question[1]"
   ]
  },
  {
   "cell_type": "code",
   "execution_count": 30,
   "metadata": {},
   "outputs": [
    {
     "data": {
      "text/plain": [
       "False"
      ]
     },
     "execution_count": 30,
     "metadata": {},
     "output_type": "execute_result"
    }
   ],
   "source": [
    "all([elmt[k]==i for k, i in test.items()])"
   ]
  },
  {
   "cell_type": "code",
   "execution_count": 13,
   "metadata": {},
   "outputs": [
    {
     "data": {
      "text/plain": [
       "dict_keys(['question_id', 'question_content', 'answer'])"
      ]
     },
     "execution_count": 13,
     "metadata": {},
     "output_type": "execute_result"
    }
   ],
   "source": [
    "elmt.keys()"
   ]
  },
  {
   "cell_type": "code",
   "execution_count": null,
   "metadata": {},
   "outputs": [],
   "source": []
  },
  {
   "cell_type": "code",
   "execution_count": 42,
   "metadata": {},
   "outputs": [],
   "source": []
  },
  {
   "cell_type": "code",
   "execution_count": 45,
   "metadata": {},
   "outputs": [
    {
     "name": "stdout",
     "output_type": "stream",
     "text": [
      "None\n"
     ]
    }
   ],
   "source": [
    "test = {\"question_id\":3}\n",
    "print(find_items_in_list_dict(question, test))"
   ]
  },
  {
   "cell_type": "code",
   "execution_count": null,
   "metadata": {},
   "outputs": [],
   "source": []
  }
 ],
 "metadata": {
  "kernelspec": {
   "display_name": "Python 3",
   "language": "python",
   "name": "python3"
  },
  "language_info": {
   "codemirror_mode": {
    "name": "ipython",
    "version": 3
   },
   "file_extension": ".py",
   "mimetype": "text/x-python",
   "name": "python",
   "nbconvert_exporter": "python",
   "pygments_lexer": "ipython3",
   "version": "3.7.7-final"
  }
 },
 "nbformat": 4,
 "nbformat_minor": 4
}